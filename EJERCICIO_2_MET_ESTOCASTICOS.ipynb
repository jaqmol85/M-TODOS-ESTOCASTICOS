{
  "nbformat": 4,
  "nbformat_minor": 0,
  "metadata": {
    "colab": {
      "provenance": [],
      "authorship_tag": "ABX9TyNoPD5m607C/3c0VopGsGvB",
      "include_colab_link": true
    },
    "kernelspec": {
      "name": "python3",
      "display_name": "Python 3"
    },
    "language_info": {
      "name": "python"
    }
  },
  "cells": [
    {
      "cell_type": "markdown",
      "metadata": {
        "id": "view-in-github",
        "colab_type": "text"
      },
      "source": [
        "<a href=\"https://colab.research.google.com/github/jaqmol85/M-TODOS-ESTOCASTICOS/blob/main/EJERCICIO_2_MET_ESTOCASTICOS.ipynb\" target=\"_parent\"><img src=\"https://colab.research.google.com/assets/colab-badge.svg\" alt=\"Open In Colab\"/></a>"
      ]
    },
    {
      "cell_type": "code",
      "source": [
        "# prompt: La conductividad hidráulica en alguna ubicación no observada se modela con una distribución log-normal. La media de Y = ln K es 2.0 y la varianza es 1.5. ¿Cuál es la media y la varianza de K?\n",
        "\n",
        "import math\n",
        "\n",
        "# Valores dados\n",
        "mean_Y = 2.0\n",
        "var_Y = 1.5\n",
        "\n",
        "# Calcular la media de K\n",
        "mean_K = math.exp(mean_Y + 0.5 * var_Y)\n",
        "\n",
        "# Calcular la varianza de K\n",
        "var_K = (math.exp(var_Y) - 1) * math.exp(2 * mean_Y + var_Y)\n",
        "\n",
        "# Imprimir los resultados\n",
        "print(f\"La media de K es aproximadamente: {mean_K:.2f}\")\n",
        "print(f\"La varianza de K es aproximadamente: {var_K:.2f}\")"
      ],
      "metadata": {
        "colab": {
          "base_uri": "https://localhost:8080/"
        },
        "id": "BvNSDCFiGcAQ",
        "outputId": "9e6d489c-6f1b-48e1-a8ad-da8f30059fca"
      },
      "execution_count": 1,
      "outputs": [
        {
          "output_type": "stream",
          "name": "stdout",
          "text": [
            "La media de K es aproximadamente: 15.64\n",
            "La varianza de K es aproximadamente: 851.94\n"
          ]
        }
      ]
    },
    {
      "cell_type": "code",
      "source": [
        "import scipy.stats as stats\n",
        "\n",
        "mu_K = 10\n",
        "sigma_K = (200)**0.5\n",
        "K_threshold = 30\n",
        "\n",
        "Z = (np.log(K_threshold) - mu_K) / sigma_K\n",
        "prob_greater_than_30 = 1 - stats.norm.cdf(Z)\n",
        "\n",
        "print(stats.norm.cdf(Z))\n",
        "\n",
        "print(f\"Probabilidad de que K > 30 m/d: {prob_greater_than_30:.4f}\")\n"
      ],
      "metadata": {
        "colab": {
          "base_uri": "https://localhost:8080/",
          "height": 218
        },
        "id": "AuP-tF9vB3sp",
        "outputId": "46233726-2ec2-4b11-a278-d40fd839e78b"
      },
      "execution_count": 2,
      "outputs": [
        {
          "output_type": "error",
          "ename": "NameError",
          "evalue": "name 'np' is not defined",
          "traceback": [
            "\u001b[0;31m---------------------------------------------------------------------------\u001b[0m",
            "\u001b[0;31mNameError\u001b[0m                                 Traceback (most recent call last)",
            "\u001b[0;32m<ipython-input-2-4d4737cd0552>\u001b[0m in \u001b[0;36m<cell line: 7>\u001b[0;34m()\u001b[0m\n\u001b[1;32m      5\u001b[0m \u001b[0mK_threshold\u001b[0m \u001b[0;34m=\u001b[0m \u001b[0;36m30\u001b[0m\u001b[0;34m\u001b[0m\u001b[0;34m\u001b[0m\u001b[0m\n\u001b[1;32m      6\u001b[0m \u001b[0;34m\u001b[0m\u001b[0m\n\u001b[0;32m----> 7\u001b[0;31m \u001b[0mZ\u001b[0m \u001b[0;34m=\u001b[0m \u001b[0;34m(\u001b[0m\u001b[0mnp\u001b[0m\u001b[0;34m.\u001b[0m\u001b[0mlog\u001b[0m\u001b[0;34m(\u001b[0m\u001b[0mK_threshold\u001b[0m\u001b[0;34m)\u001b[0m \u001b[0;34m-\u001b[0m \u001b[0mmu_K\u001b[0m\u001b[0;34m)\u001b[0m \u001b[0;34m/\u001b[0m \u001b[0msigma_K\u001b[0m\u001b[0;34m\u001b[0m\u001b[0;34m\u001b[0m\u001b[0m\n\u001b[0m\u001b[1;32m      8\u001b[0m \u001b[0mprob_greater_than_30\u001b[0m \u001b[0;34m=\u001b[0m \u001b[0;36m1\u001b[0m \u001b[0;34m-\u001b[0m \u001b[0mstats\u001b[0m\u001b[0;34m.\u001b[0m\u001b[0mnorm\u001b[0m\u001b[0;34m.\u001b[0m\u001b[0mcdf\u001b[0m\u001b[0;34m(\u001b[0m\u001b[0mZ\u001b[0m\u001b[0;34m)\u001b[0m\u001b[0;34m\u001b[0m\u001b[0;34m\u001b[0m\u001b[0m\n\u001b[1;32m      9\u001b[0m \u001b[0;34m\u001b[0m\u001b[0m\n",
            "\u001b[0;31mNameError\u001b[0m: name 'np' is not defined"
          ]
        }
      ]
    },
    {
      "cell_type": "code",
      "source": [
        "import numpy as np\n",
        "\n",
        "# Probabilidades de textura\n",
        "pr_arena = 0.7\n",
        "pr_arcilla = 0.2\n",
        "pr_turba = 0.1\n",
        "\n",
        "# Distribuciones de conductividad hidráulica para cada textura\n",
        "conductividad_arena = np.array([0.0, 0.0, 0.0, 0.1, 0.4, 0.3, 0.1, 0.1])\n",
        "conductividad_arcilla = np.array([0.3, 0.4, 0.2, 0.1, 0.0, 0.0, 0.0, 0.0])\n",
        "conductividad_turba = np.array([0.1, 0.3, 0.3, 0.2, 0.1, 0.0, 0.0, 0.0])\n",
        "\n",
        "# Calculamos la distribución de probabilidad total\n",
        "distribucion_total = (\n",
        "    pr_arena * conductividad_arena\n",
        "    + pr_arcilla * conductividad_arcilla\n",
        "    + pr_turba * conductividad_turba\n",
        ")\n",
        "\n",
        "# Imprimimos los resultados\n",
        "for i, valor_conductividad in enumerate([1e-3, 1e-2, 1e-1, 1e0, 1e1, 2e1, 5e1, 1e2]):\n",
        "    print(f\"Conductividad {valor_conductividad:.0e} m/d: {distribucion_total[i]:.2f}\")"
      ],
      "metadata": {
        "id": "DU7VGjM8As1r"
      },
      "execution_count": null,
      "outputs": []
    },
    {
      "cell_type": "code",
      "source": [
        "import numpy as np\n",
        "\n",
        "# Parámetros dados\n",
        "media_Z1 = 10\n",
        "media_Z2 = 25\n",
        "varianza_Z1 = 300\n",
        "varianza_Z2 = 450\n",
        "coef_correlacion = 0.7\n",
        "\n",
        "# a. Covarianza entre Z1 y Z2\n",
        "covarianza_Z1_Z2 = coef_correlacion * np.sqrt(varianza_Z1) * np.sqrt(varianza_Z2)\n",
        "print(f\"Covarianza entre Z1 y Z2: {covarianza_Z1_Z2:.2f}\")\n",
        "\n",
        "# b. Valor esperado de Y = Z1 + Z2\n",
        "valor_esperado_Y = media_Z1 + media_Z2\n",
        "print(f\"Valor esperado de Y = Z1 + Z2: {valor_esperado_Y:.2f}\")\n",
        "\n",
        "# c. Varianza de Y = Z1 + Z2\n",
        "varianza_Y = varianza_Z1 + varianza_Z2 + 2 * covarianza_Z1_Z2\n",
        "print(f\"Varianza de Y = Z1 + Z2: {varianza_Y:.2f}\")"
      ],
      "metadata": {
        "id": "-_x7rD7ewpaf"
      },
      "execution_count": null,
      "outputs": []
    },
    {
      "cell_type": "code",
      "source": [
        "#5\n",
        "import scipy.stats as stats\n",
        "\n",
        "# Parámetros dados\n",
        "media_Z1 = 10\n",
        "media_Z2 = 25\n",
        "varianza_Z1 = 300\n",
        "varianza_Z2 = 450\n",
        "coef_correlacion = 0.7\n",
        "\n",
        "# a. Probabilidad Pr[Z1 < 30]\n",
        "prob_Z1_less_than_30 = stats.norm.cdf((30 - media_Z1) / np.sqrt(varianza_Z1))\n",
        "print(f\"Pr[Z1 < 30]: {prob_Z1_less_than_30:.4f}\")\n",
        "\n",
        "# b. Probabilidad Pr[Z2 < 40]\n",
        "prob_Z2_less_than_40 = stats.norm.cdf((40 - media_Z2) / np.sqrt(varianza_Z2))\n",
        "print(f\"Pr[Z2 < 40]: {prob_Z2_less_than_40:.4f}\")\n",
        "\n",
        "# c. Probabilidad Pr[Z1 + Z2 < 50]\n",
        "media_Y = media_Z1 + media_Z2\n",
        "varianza_Y = varianza_Z1 + varianza_Z2 + 2 * coef_correlacion * np.sqrt(varianza_Z1) * np.sqrt(varianza_Z2)\n",
        "prob_Y_less_than_50 = stats.norm.cdf((50 - media_Y) / np.sqrt(varianza_Y))\n",
        "print(f\"Pr[Z1 + Z2 < 50]: {prob_Y_less_than_50:.4f}\")\n",
        "\n",
        "# d. Probabilidad Pr[Z1 < 30 ⋂ Z2 < 40]\n",
        "prob_Z1_less_than_30_and_Z2_less_than_40 = prob_Z1_less_than_30 * prob_Z2_less_than_40\n",
        "print(f\"Pr[Z1 < 30 ⋂ Z2 < 40]: {prob_Z1_less_than_30_and_Z2_less_than_40:.4f}\")\n",
        "\n",
        "# e. Probabilidad Pr[Z1 < 30 ⋃ Z2 < 40]\n",
        "prob_Z1_less_than_30_or_Z2_less_than_40 = prob_Z1_less_than_30 + prob_Z2_less_than_40 - prob_Z1_less_than_30_and_Z2_less_than_40\n",
        "print(f\"Pr[Z1 < 30 ⋃ Z2 < 40]: {prob_Z1_less_than_30_or_Z2_less_than_40:.4f}\")"
      ],
      "metadata": {
        "id": "fYJlGxIzxbUp"
      },
      "execution_count": null,
      "outputs": []
    },
    {
      "cell_type": "code",
      "source": [
        "import numpy as np\n",
        "import matplotlib.pyplot as plt\n",
        "\n",
        "# Parámetros dados\n",
        "media_Z1 = 10\n",
        "varianza_Z1 = 300\n",
        "\n",
        "# Valores de Z1 para graficar\n",
        "z1_values = np.linspace(-10, 50, 1000)\n",
        "\n",
        "# PDF de Z1\n",
        "pdf_Z1 = stats.norm.pdf(z1_values, loc=media_Z1, scale=np.sqrt(varianza_Z1))\n",
        "\n",
        "# CDF de Z1\n",
        "cdf_Z1 = stats.norm.cdf(z1_values, loc=media_Z1, scale=np.sqrt(varianza_Z1))\n",
        "\n",
        "# Graficar PDF y CDF\n",
        "plt.figure(figsize=(10, 6))\n",
        "plt.subplot(2, 1, 1)\n",
        "plt.plot(z1_values, pdf_Z1, label='PDF')\n",
        "plt.title('Función de Densidad de Probabilidad (PDF) de Z1')\n",
        "plt.xlabel('Z1')\n",
        "plt.ylabel('PDF')\n",
        "plt.grid()\n",
        "\n",
        "plt.subplot(2, 1, 2)\n",
        "plt.plot(z1_values, cdf_Z1, label='CDF', color='orange')\n",
        "plt.title('Función de Distribución Acumulativa (CDF) de Z1')\n",
        "plt.xlabel('Z1')\n",
        "plt.ylabel('CDF')\n",
        "plt.grid()\n",
        "\n",
        "plt.tight_layout()\n",
        "plt.show()"
      ],
      "metadata": {
        "id": "Z_fva78L9I-L"
      },
      "execution_count": null,
      "outputs": []
    },
    {
      "cell_type": "code",
      "source": [
        "#Derivada de las expresiones dadas\n",
        "print(\"1 a. Para la ecuación, simplemente estamos sumando las funciones de distribución característica (CDF) de (Z_1) y (Z_2). La suma de dos CDFs no requiere una derivación adicional, ya que es una propiedad directa de las funciones de distribución.Por lo tanto, la expresión proporcionada ya está derivada y no necesitamos realizar más cálculos.\")"
      ],
      "metadata": {
        "id": "zyuBecydyw87"
      },
      "execution_count": null,
      "outputs": []
    },
    {
      "cell_type": "code",
      "source": [],
      "metadata": {
        "id": "ciDKbALAzPP0"
      },
      "execution_count": null,
      "outputs": []
    }
  ]
}