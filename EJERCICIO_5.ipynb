{
  "nbformat": 4,
  "nbformat_minor": 0,
  "metadata": {
    "colab": {
      "provenance": [],
      "authorship_tag": "ABX9TyNVXKAqHUwTtQx5OPfss59E",
      "include_colab_link": true
    },
    "kernelspec": {
      "name": "python3",
      "display_name": "Python 3"
    },
    "language_info": {
      "name": "python"
    }
  },
  "cells": [
    {
      "cell_type": "markdown",
      "metadata": {
        "id": "view-in-github",
        "colab_type": "text"
      },
      "source": [
        "<a href=\"https://colab.research.google.com/github/jaqmol85/M-TODOS-ESTOCASTICOS/blob/main/EJERCICIO_5.ipynb\" target=\"_parent\"><img src=\"https://colab.research.google.com/assets/colab-badge.svg\" alt=\"Open In Colab\"/></a>"
      ]
    },
    {
      "cell_type": "markdown",
      "source": [
        "Ejercicio 05 – Series de Tiempo A\n",
        "\n",
        "Para la serie de caudales medios diarios del Río Lebrija (archivo adjunto) se le pide:\n",
        "1. Agregar la serie a:\n",
        "\n",
        "a. Caudales medios mensuales\n",
        "b. Caudales medios anuales\n",
        "c. Caudales medios mensuales multianuales"
      ],
      "metadata": {
        "id": "jmeu5ad5PO4M"
      }
    },
    {
      "cell_type": "code",
      "source": [],
      "metadata": {
        "id": "i5kdwEu5PRdo"
      },
      "execution_count": null,
      "outputs": []
    }
  ]
}